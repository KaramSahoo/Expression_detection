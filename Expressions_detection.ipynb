{
  "nbformat": 4,
  "nbformat_minor": 0,
  "metadata": {
    "colab": {
      "name": "Expressions_detection.ipynb",
      "provenance": [],
      "collapsed_sections": [],
      "mount_file_id": "16xQ1M835KjnY5svUR5Kf2MnbgffQszip",
      "authorship_tag": "ABX9TyOr4QMFUuTV1GJGnVFPDTzz",
      "include_colab_link": true
    },
    "kernelspec": {
      "name": "python3",
      "display_name": "Python 3"
    },
    "language_info": {
      "name": "python"
    }
  },
  "cells": [
    {
      "cell_type": "markdown",
      "metadata": {
        "id": "view-in-github",
        "colab_type": "text"
      },
      "source": [
        "<a href=\"https://colab.research.google.com/github/KaramSahoo/Expression_detection/blob/main/Expressions_detection.ipynb\" target=\"_parent\"><img src=\"https://colab.research.google.com/assets/colab-badge.svg\" alt=\"Open In Colab\"/></a>"
      ]
    },
    {
      "cell_type": "code",
      "metadata": {
        "id": "uGqwTIQGviIx"
      },
      "source": [
        "import tensorflow as tf\n",
        "import os\n",
        "import numpy as np\n",
        "import matplotlib.pyplot as plt\n",
        "import cv2\n",
        "import random"
      ],
      "execution_count": 36,
      "outputs": []
    },
    {
      "cell_type": "code",
      "metadata": {
        "id": "OCrQ0RzjvmkN"
      },
      "source": [
        "!unzip archive.zip"
      ],
      "execution_count": null,
      "outputs": []
    },
    {
      "cell_type": "code",
      "metadata": {
        "id": "KTMQQNm1x6Ri"
      },
      "source": [
        "img_array = cv2.imread(\"train/0/Training_10315441.jpg\")"
      ],
      "execution_count": 16,
      "outputs": []
    },
    {
      "cell_type": "code",
      "metadata": {
        "colab": {
          "base_uri": "https://localhost:8080/"
        },
        "id": "lgXQ-2Z8zqBD",
        "outputId": "3723817b-ff7a-4e5e-b9ce-d95dbad99152"
      },
      "source": [
        "img_array.shape"
      ],
      "execution_count": 17,
      "outputs": [
        {
          "output_type": "execute_result",
          "data": {
            "text/plain": [
              "(48, 48, 3)"
            ]
          },
          "metadata": {
            "tags": []
          },
          "execution_count": 17
        }
      ]
    },
    {
      "cell_type": "code",
      "metadata": {
        "colab": {
          "base_uri": "https://localhost:8080/",
          "height": 285
        },
        "id": "fbSjEUDszuxh",
        "outputId": "5919c2d8-2c64-4a86-d27c-8d15b7358515"
      },
      "source": [
        "plt.imshow(img_array)"
      ],
      "execution_count": 18,
      "outputs": [
        {
          "output_type": "execute_result",
          "data": {
            "text/plain": [
              "<matplotlib.image.AxesImage at 0x7feb4f8e1c90>"
            ]
          },
          "metadata": {
            "tags": []
          },
          "execution_count": 18
        },
        {
          "output_type": "display_data",
          "data": {
            "image/png": "[encoded data removed]",
            "text/plain": [
              "<Figure size 432x288 with 1 Axes>"
            ]
          },
          "metadata": {
            "tags": [],
            "needs_background": "light"
          }
        }
      ]
    },
    {
      "cell_type": "code",
      "metadata": {
        "id": "X-S2A41L0u_b"
      },
      "source": [
        "Datadirectory = \"train/\""
      ],
      "execution_count": 19,
      "outputs": []
    },
    {
      "cell_type": "code",
      "metadata": {
        "id": "SYXdwkws1MM0"
      },
      "source": [
        "classes = [\"0\", \"1\", \"2\", \"3\", \"4\", \"5\", \"6\"]"
      ],
      "execution_count": 21,
      "outputs": []
    },
    {
      "cell_type": "code",
      "metadata": {
        "colab": {
          "base_uri": "https://localhost:8080/",
          "height": 267
        },
        "id": "eZh0c4yI1Zq7",
        "outputId": "80cc2d2c-2689-4851-f6f3-7cd81177a79e"
      },
      "source": [
        "for category in classes:\n",
        "  path = os.path.join(Datadirectory, category)\n",
        "  for img in os.listdir(path):\n",
        "    img_array = cv2.imread(os.path.join(path, img))\n",
        "    plt.imshow(cv2.cvtColor(img_array, cv2.COLOR_BGR2RGB))\n",
        "    plt.show()\n",
        "    break\n",
        "  break"
      ],
      "execution_count": 23,
      "outputs": [
        {
          "output_type": "display_data",
          "data": {
            "image/png": "[encoded data removed]",
            "text/plain": [
              "<Figure size 432x288 with 1 Axes>"
            ]
          },
          "metadata": {
            "tags": [],
            "needs_background": "light"
          }
        }
      ]
    },
    {
      "cell_type": "code",
      "metadata": {
        "colab": {
          "base_uri": "https://localhost:8080/",
          "height": 269
        },
        "id": "R6EMVUnD2blG",
        "outputId": "54949190-ce39-4023-ae0e-c580e3d2c29e"
      },
      "source": [
        "img_size = 224\n",
        "new_array = cv2.resize(img_array, (img_size, img_size))\n",
        "plt.imshow(cv2.cvtColor(new_array, cv2.COLOR_BGR2RGB))\n",
        "plt.show()"
      ],
      "execution_count": 24,
      "outputs": [
        {
          "output_type": "display_data",
          "data": {
            "image/png": "[encoded data removed]",
            "text/plain": [
              "<Figure size 432x288 with 1 Axes>"
            ]
          },
          "metadata": {
            "tags": [],
            "needs_background": "light"
          }
        }
      ]
    },
    {
      "cell_type": "code",
      "metadata": {
        "colab": {
          "base_uri": "https://localhost:8080/"
        },
        "id": "rtoYENG83NLi",
        "outputId": "2b4d836f-f390-4e3d-8101-f47375d99bb1"
      },
      "source": [
        "new_array.shape"
      ],
      "execution_count": 27,
      "outputs": [
        {
          "output_type": "execute_result",
          "data": {
            "text/plain": [
              "(224, 224, 3)"
            ]
          },
          "metadata": {
            "tags": []
          },
          "execution_count": 27
        }
      ]
    },
    {
      "cell_type": "code",
      "metadata": {
        "id": "_EFh4i2E3UDS"
      },
      "source": [
        "training_data = []\n",
        "\n",
        "def create_training_data():\n",
        "  for category in classes:\n",
        "    path = os.path.join(Datadirectory, category)\n",
        "    class_num = Classes.index(category)\n",
        "    for img in os.listdir(path):\n",
        "      try:\n",
        "        img_array = cv2.imread(os.path.join(path, img))\n",
        "        new_array = cv2.resize(img_array, (img_size, img_size))\n",
        "        training_data.append([new_array, class_num])\n",
        "      except Exception as e:\n",
        "        pass"
      ],
      "execution_count": 32,
      "outputs": []
    },
    {
      "cell_type": "code",
      "metadata": {
        "id": "9Y6ABwDb4NqU"
      },
      "source": [
        "create_training_data()"
      ],
      "execution_count": 33,
      "outputs": []
    },
    {
      "cell_type": "code",
      "metadata": {
        "colab": {
          "base_uri": "https://localhost:8080/"
        },
        "id": "txr42qls4b-Z",
        "outputId": "3d47f500-9450-4ee6-f699-b2736b7ba573"
      },
      "source": [
        "print(len(training_data))"
      ],
      "execution_count": 35,
      "outputs": [
        {
          "output_type": "stream",
          "text": [
            "28709\n"
          ],
          "name": "stdout"
        }
      ]
    },
    {
      "cell_type": "code",
      "metadata": {
        "id": "EKXLvx5C4lNC"
      },
      "source": [
        "random.shuffle(training_data)"
      ],
      "execution_count": 42,
      "outputs": []
    },
    {
      "cell_type": "code",
      "metadata": {
        "id": "AMjv1tRv5pXt"
      },
      "source": [
        ""
      ],
      "execution_count": null,
      "outputs": []
    }
  ]
}